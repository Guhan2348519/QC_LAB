{
  "cells": [
    {
      "cell_type": "markdown",
      "metadata": {
        "id": "view-in-github",
        "colab_type": "text"
      },
      "source": [
        "<a href=\"https://colab.research.google.com/github/Guhan2348519/QC_LAB/blob/main/2348519_QC_Lab2.ipynb\" target=\"_parent\"><img src=\"https://colab.research.google.com/assets/colab-badge.svg\" alt=\"Open In Colab\"/></a>"
      ]
    },
    {
      "cell_type": "code",
      "execution_count": null,
      "metadata": {
        "id": "V89opb2m37Ma"
      },
      "outputs": [],
      "source": [
        "from qiskit.quantum_info import Operator\n",
        "from qiskit.quantum_info import Statevector\n",
        "from qiskit import QuantumCircuit\n",
        "from qiskit.visualization import plot_histogram, circuit_drawer\n",
        "from numpy import sqrt\n",
        "import numpy as np"
      ]
    },
    {
      "cell_type": "markdown",
      "metadata": {
        "id": "Klrm3JDv37Md"
      },
      "source": [
        "### Defining Quantum Gates"
      ]
    },
    {
      "cell_type": "code",
      "execution_count": null,
      "metadata": {
        "id": "Ty3zI82837Me"
      },
      "outputs": [],
      "source": [
        "\n",
        "X = Operator([[0, 1], [1, 0]])\n",
        "Y = Operator([[0, -1.0j], [1.0j, 0]])\n",
        "Z = Operator([[1, 0], [0, -1]])\n",
        "H = Operator([[1/sqrt(2), 1/sqrt(2)], [1/sqrt(2), -1/sqrt(2)]])\n",
        "S = Operator([[1, 0], [0, 1j]])\n",
        "T = Operator([[1, 0], [0, (1.0+1.0j)/sqrt(2)]])\n",
        "\n",
        "v = Statevector([0,1])"
      ]
    },
    {
      "cell_type": "code",
      "execution_count": null,
      "metadata": {
        "id": "p0gsec2w37Mf",
        "outputId": "a97dcbac-d975-42bc-847b-f330e978925c"
      },
      "outputs": [
        {
          "name": "stdout",
          "output_type": "stream",
          "text": [
            "Initial State Vector |1>:\n",
            "Statevector([0.+0.j, 1.+0.j],\n",
            "            dims=(2,))\n"
          ]
        }
      ],
      "source": [
        "print(\"Initial State Vector |1>:\")\n",
        "print(v)"
      ]
    },
    {
      "cell_type": "code",
      "execution_count": null,
      "metadata": {
        "id": "l-Kko5Mf37Mg",
        "outputId": "b1fef3f0-da01-4af7-b770-61cce6ece867"
      },
      "outputs": [
        {
          "name": "stdout",
          "output_type": "stream",
          "text": [
            "\n",
            "State after applying X gate:\n",
            "Operator([[0.+0.j, 1.+0.j],\n",
            "          [0.+0.j, 0.+0.j]],\n",
            "         input_dims=(2,), output_dims=(2,))\n"
          ]
        }
      ],
      "source": [
        "v = X @ v\n",
        "\n",
        "print(\"\\nState after applying X gate:\")\n",
        "print(v)"
      ]
    },
    {
      "cell_type": "code",
      "execution_count": null,
      "metadata": {
        "id": "rdsqWl2z37Mh",
        "outputId": "0010c573-667e-4afb-cfb1-dca54f831e52"
      },
      "outputs": [
        {
          "name": "stdout",
          "output_type": "stream",
          "text": [
            "\n",
            "State after applying Y gate:\n",
            "Operator([[0.+0.j, 0.+0.j],\n",
            "          [0.+0.j, 0.+1.j]],\n",
            "         input_dims=(2,), output_dims=(2,))\n"
          ]
        }
      ],
      "source": [
        "v = Y @ v\n",
        "\n",
        "print(\"\\nState after applying Y gate:\")\n",
        "print(v)"
      ]
    },
    {
      "cell_type": "code",
      "execution_count": null,
      "metadata": {
        "id": "u2HubKLL37Mh",
        "outputId": "14a4d419-8c46-463c-e1b5-b82a4393225f"
      },
      "outputs": [
        {
          "name": "stdout",
          "output_type": "stream",
          "text": [
            "\n",
            "State after applying Z gate:\n",
            "Operator([[ 0.+0.j,  0.+0.j],\n",
            "          [-0.+0.j,  0.-1.j]],\n",
            "         input_dims=(2,), output_dims=(2,))\n"
          ]
        }
      ],
      "source": [
        "v = Z @ v\n",
        "\n",
        "print(\"\\nState after applying Z gate:\")\n",
        "print(v)"
      ]
    },
    {
      "cell_type": "code",
      "execution_count": null,
      "metadata": {
        "id": "kHzb2O8c37Mi",
        "outputId": "cfac6634-d50c-461a-cc46-a5b8bc29d6ef"
      },
      "outputs": [
        {
          "name": "stdout",
          "output_type": "stream",
          "text": [
            "\n",
            "State after applying H gate:\n",
            "Operator([[-0.+0.j        ,  0.-0.70710678j],\n",
            "          [ 0.+0.j        ,  0.+0.70710678j]],\n",
            "         input_dims=(2,), output_dims=(2,))\n"
          ]
        }
      ],
      "source": [
        "v = H @ v\n",
        "\n",
        "print(\"\\nState after applying H gate:\")\n",
        "print(v)"
      ]
    },
    {
      "cell_type": "code",
      "execution_count": null,
      "metadata": {
        "id": "RLThUcEz37Mi",
        "outputId": "5369eef2-c37d-4424-8e63-03b55df22323"
      },
      "outputs": [
        {
          "name": "stdout",
          "output_type": "stream",
          "text": [
            "\n",
            "State after applying S gate:\n",
            "Operator([[ 0.        +0.j        ,  0.        -0.70710678j],\n",
            "          [ 0.        +0.j        , -0.70710678+0.j        ]],\n",
            "         input_dims=(2,), output_dims=(2,))\n"
          ]
        }
      ],
      "source": [
        "v = S @ v\n",
        "\n",
        "print(\"\\nState after applying S gate:\")\n",
        "print(v)"
      ]
    },
    {
      "cell_type": "code",
      "execution_count": null,
      "metadata": {
        "id": "dgZxY6_T37Mj",
        "outputId": "36fd5fab-ee35-40bd-d642-22fbfceb6129"
      },
      "outputs": [
        {
          "name": "stdout",
          "output_type": "stream",
          "text": [
            "\n",
            "State after applying T gate:\n",
            "Operator([[ 0. +0.j        ,  0. -0.70710678j],\n",
            "          [ 0. +0.j        , -0.5-0.5j       ]],\n",
            "         input_dims=(2,), output_dims=(2,))\n"
          ]
        }
      ],
      "source": [
        "v = T @ v\n",
        "\n",
        "print(\"\\nState after applying T gate:\")\n",
        "print(v)"
      ]
    },
    {
      "cell_type": "markdown",
      "metadata": {
        "id": "9g9uSjIM37Mj"
      },
      "source": [
        "## Drawing the Quantum Circuit"
      ]
    },
    {
      "cell_type": "code",
      "execution_count": null,
      "metadata": {
        "id": "6SX3Rmet37Mk",
        "outputId": "cecbc2ab-bc01-4b7b-c6b0-9144f6653c3e"
      },
      "outputs": [
        {
          "data": {
            "image/png": "[encoded data removed]",
            "text/plain": [
              "<Figure size 603.508x117.056 with 1 Axes>"
            ]
          },
          "metadata": {},
          "output_type": "display_data"
        }
      ],
      "source": [
        "circuit = QuantumCircuit(1)\n",
        "circuit.x(0)\n",
        "circuit.y(0)\n",
        "circuit.z(0)\n",
        "circuit.h(0)\n",
        "circuit.s(0)\n",
        "circuit.t(0)\n",
        "\n",
        "display(circuit.draw(output='mpl'))"
      ]
    },
    {
      "cell_type": "code",
      "execution_count": null,
      "metadata": {
        "id": "K4CrXAhY37Mk",
        "outputId": "c257158e-e587-4df7-866c-635a3455aa64"
      },
      "outputs": [
        {
          "data": {
            "image/png": "[encoded data removed]",
            "text/plain": [
              "<Figure size 687.119x200.667 with 1 Axes>"
            ]
          },
          "execution_count": 11,
          "metadata": {},
          "output_type": "execute_result"
        }
      ],
      "source": [
        "#  quantum circuit with 1 qubit and 1 classical bit for measurement\n",
        "qc = QuantumCircuit(1, 1)\n",
        "\n",
        "# sequential X, Y, Z, H, S, and T gates\n",
        "qc.x(0)\n",
        "qc.y(0)\n",
        "qc.z(0)\n",
        "qc.h(0)\n",
        "qc.s(0)\n",
        "qc.t(0)\n",
        "\n",
        "# qubit measurement\n",
        "qc.measure(0, 0)\n",
        "\n",
        "# drawing the circuit\n",
        "circuit_drawer(qc, output='mpl')\n"
      ]
    },
    {
      "cell_type": "markdown",
      "metadata": {
        "id": "UoOAGkeO37Mk"
      },
      "source": [
        "### **Explanation of the Circuit**\n",
        "\n",
        "1. **Initial State**: The qubit starts in the $ |0\\rangle $ state\n",
        "2. **X Gate**: The first gate applied is the **X gate**, which flips the state from $ |0\\rangle $ to $ |1\\rangle $\n",
        "3. **Y Gate**: Next, the **Y gate** is applied. This introduces a phase of $ \\pi/2 $ and flips the qubit’s state\n",
        "4. **Z Gate**: The **Z gate** applies a phase shift of $ \\pi $ to the $ |1\\rangle $ state, leaving the probability of measurement unchanged but altering the relative phase\n",
        "5. **H Gate**: The **Hadamard gate** creates a superposition state, meaning the qubit will have an equal probability of being measured as $ |0\\rangle $ or $ |1\\rangle $\n",
        "6. **S Gate**: The **Phase (S) gate** introduces a phase shift of $ \\pi/2 $ to the $ |1\\rangle $ state\n",
        "7. **T Gate**: The **T gate** introduces a finer phase shift of $ \\pi/4 $ to the $ |1\\rangle $ state\n",
        "8. Once the circuit is created, it is executed on a quantum simulator to observe the outcomes. Each gate transforms the qubit state, and the final measurement gives a result based on the cumulative effect of all the gates"
      ]
    },
    {
      "cell_type": "code",
      "execution_count": null,
      "metadata": {
        "id": "8uo7n_hZ37Mk",
        "outputId": "b6e8b319-bec3-4e62-e1e7-69d132ea7b7e"
      },
      "outputs": [
        {
          "data": {
            "text/plain": [
              "[0. -0.70710678j,0.5+0.5j       ]"
            ]
          },
          "execution_count": 13,
          "metadata": {},
          "output_type": "execute_result"
        }
      ],
      "source": [
        "ket0 = Statevector([1,0])\n",
        "v = ket0.evolve(circuit)\n",
        "v.draw(\"text\")"
      ]
    },
    {
      "cell_type": "code",
      "execution_count": null,
      "metadata": {
        "id": "uXETM7Xg37Ml",
        "outputId": "0c8af9f5-4640-4eb4-b0e1-eb1c0ea662d4"
      },
      "outputs": [
        {
          "data": {
            "image/png": "[encoded data removed]",
            "text/plain": [
              "<Figure size 640x480 with 1 Axes>"
            ]
          },
          "execution_count": 14,
          "metadata": {},
          "output_type": "execute_result"
        }
      ],
      "source": [
        "stats = v.sample_counts(10000)\n",
        "plot_histogram(stats)"
      ]
    },
    {
      "cell_type": "code",
      "execution_count": null,
      "metadata": {
        "id": "OcntLLOE37Ml"
      },
      "outputs": [],
      "source": [
        "from IPython.display import display, Math\n",
        "# display(Math('R^2'))"
      ]
    },
    {
      "cell_type": "code",
      "execution_count": null,
      "metadata": {
        "id": "Lzy-ugTp37Ml",
        "outputId": "e750ac06-194a-4965-f58c-3d1d77d91908"
      },
      "outputs": [
        {
          "data": {
            "text/latex": [
              "$\\displaystyle  R = H * S * H  , matrix:$"
            ],
            "text/plain": [
              "<IPython.core.display.Math object>"
            ]
          },
          "metadata": {},
          "output_type": "display_data"
        },
        {
          "name": "stdout",
          "output_type": "stream",
          "text": [
            "Operator([[0.5+0.5j, 0.5-0.5j],\n",
            "          [0.5-0.5j, 0.5+0.5j]],\n",
            "         input_dims=(2,), output_dims=(2,))\n"
          ]
        }
      ],
      "source": [
        "# defining the operators\n",
        "H = Operator([[1/sqrt(2), 1/sqrt(2)], [1/sqrt(2), -1/sqrt(2)]])  # Hadamard\n",
        "S = Operator([[1, 0], [0, 1j]])  # S gate\n",
        "X = Operator([[0, 1], [1, 0]])  # Pauli-X gate(NOT gate)\n",
        "# R = H * S * H\n",
        "R = H @ S @ H\n",
        "display(Math(\" R = H * S * H  , matrix:\"))\n",
        "print(R)"
      ]
    },
    {
      "cell_type": "code",
      "execution_count": null,
      "metadata": {
        "id": "P3CLe-PK37Ml",
        "outputId": "51cb3429-b4b5-4524-e3ae-0352d4378ea9"
      },
      "outputs": [
        {
          "data": {
            "text/latex": [
              "$\\displaystyle \n",
              "R^2 ,  matrix:$"
            ],
            "text/plain": [
              "<IPython.core.display.Math object>"
            ]
          },
          "metadata": {},
          "output_type": "display_data"
        },
        {
          "name": "stdout",
          "output_type": "stream",
          "text": [
            "Operator([[1.23259516e-32-1.23259516e-32j, 1.00000000e+00+1.23259516e-32j],\n",
            "          [1.00000000e+00-1.23259516e-32j, 1.23259516e-32+1.23259516e-32j]],\n",
            "         input_dims=(2,), output_dims=(2,))\n"
          ]
        }
      ],
      "source": [
        "# calculating R-squared\n",
        "R_squared = R @ R\n",
        "display(Math(\"\\nR^2 ,  matrix:\"))\n",
        "print(R_squared)"
      ]
    },
    {
      "cell_type": "code",
      "execution_count": null,
      "metadata": {
        "id": "206vGHVQ37Ml",
        "outputId": "b90150b5-a832-4a85-c115-32c35dc29994"
      },
      "outputs": [
        {
          "data": {
            "text/latex": [
              "$\\displaystyle \n",
              "Pauli-X , (NOT gate) ,matrix:$"
            ],
            "text/plain": [
              "<IPython.core.display.Math object>"
            ]
          },
          "metadata": {},
          "output_type": "display_data"
        },
        {
          "name": "stdout",
          "output_type": "stream",
          "text": [
            "Operator([[0.+0.j, 1.+0.j],\n",
            "          [1.+0.j, 0.+0.j]],\n",
            "         input_dims=(2,), output_dims=(2,))\n"
          ]
        }
      ],
      "source": [
        "# verifying R-squared is equal to the X (Pauli-X) gate\n",
        "display(Math(\"\\nPauli-X , (NOT gate) ,matrix:\"))\n",
        "print(X)"
      ]
    }
  ],
  "metadata": {
    "kernelspec": {
      "display_name": "base",
      "language": "python",
      "name": "python3"
    },
    "language_info": {
      "codemirror_mode": {
        "name": "ipython",
        "version": 3
      },
      "file_extension": ".py",
      "mimetype": "text/x-python",
      "name": "python",
      "nbconvert_exporter": "python",
      "pygments_lexer": "ipython3",
      "version": "3.12.7"
    },
    "colab": {
      "provenance": [],
      "include_colab_link": true
    }
  },
  "nbformat": 4,
  "nbformat_minor": 0
}