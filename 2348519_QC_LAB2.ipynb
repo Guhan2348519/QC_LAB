{
  "nbformat": 4,
  "nbformat_minor": 0,
  "metadata": {
    "colab": {
      "provenance": [],
      "include_colab_link": true
    },
    "kernelspec": {
      "name": "python3",
      "display_name": "Python 3"
    },
    "language_info": {
      "name": "python"
    }
  },
  "cells": [
    {
      "cell_type": "markdown",
      "metadata": {
        "id": "view-in-github",
        "colab_type": "text"
      },
      "source": [
        "<a href=\"https://colab.research.google.com/github/Guhan2348519/QC_LAB/blob/main/2348519_QC_LAB2.ipynb\" target=\"_parent\"><img src=\"https://colab.research.google.com/assets/colab-badge.svg\" alt=\"Open In Colab\"/></a>"
      ]
    },
    {
      "cell_type": "code",
      "source": [
        "!pip install qiskit"
      ],
      "metadata": {
        "colab": {
          "base_uri": "https://localhost:8080/"
        },
        "id": "_ao-MwCzu8SM",
        "outputId": "895018d7-a8a8-44a0-b3cf-9cef17cf1612"
      },
      "execution_count": 23,
      "outputs": [
        {
          "output_type": "stream",
          "name": "stdout",
          "text": [
            "Requirement already satisfied: qiskit in /usr/local/lib/python3.10/dist-packages (1.2.4)\n",
            "Requirement already satisfied: rustworkx>=0.15.0 in /usr/local/lib/python3.10/dist-packages (from qiskit) (0.15.1)\n",
            "Requirement already satisfied: numpy<3,>=1.17 in /usr/local/lib/python3.10/dist-packages (from qiskit) (1.26.4)\n",
            "Requirement already satisfied: scipy>=1.5 in /usr/local/lib/python3.10/dist-packages (from qiskit) (1.13.1)\n",
            "Requirement already satisfied: sympy>=1.3 in /usr/local/lib/python3.10/dist-packages (from qiskit) (1.13.1)\n",
            "Requirement already satisfied: dill>=0.3 in /usr/local/lib/python3.10/dist-packages (from qiskit) (0.3.9)\n",
            "Requirement already satisfied: python-dateutil>=2.8.0 in /usr/local/lib/python3.10/dist-packages (from qiskit) (2.8.2)\n",
            "Requirement already satisfied: stevedore>=3.0.0 in /usr/local/lib/python3.10/dist-packages (from qiskit) (5.3.0)\n",
            "Requirement already satisfied: typing-extensions in /usr/local/lib/python3.10/dist-packages (from qiskit) (4.12.2)\n",
            "Requirement already satisfied: symengine<0.14,>=0.11 in /usr/local/lib/python3.10/dist-packages (from qiskit) (0.13.0)\n",
            "Requirement already satisfied: six>=1.5 in /usr/local/lib/python3.10/dist-packages (from python-dateutil>=2.8.0->qiskit) (1.16.0)\n",
            "Requirement already satisfied: pbr>=2.0.0 in /usr/local/lib/python3.10/dist-packages (from stevedore>=3.0.0->qiskit) (6.1.0)\n",
            "Requirement already satisfied: mpmath<1.4,>=1.1.0 in /usr/local/lib/python3.10/dist-packages (from sympy>=1.3->qiskit) (1.3.0)\n"
          ]
        }
      ]
    },
    {
      "cell_type": "code",
      "source": [
        "import qiskit\n",
        "from qiskit.quantum_info import Operator\n",
        "from qiskit.quantum_info import Statevector\n",
        "import numpy as np\n",
        "import math\n"
      ],
      "metadata": {
        "id": "rs9yYggAuQOE"
      },
      "execution_count": 24,
      "outputs": []
    },
    {
      "cell_type": "code",
      "source": [
        "X=Operator([[0,1],[1,0]])\n",
        "Y=Operator([[0,-1j],[1j,0]])\n",
        "Z=Operator([[1,0],[0,-1]])\n",
        "H=Operator([[1/math.sqrt(2),1/math.sqrt(2)],[1/math.sqrt(2),-1/math.sqrt(2)]])\n",
        "S=Operator([[1,0],[0,1j]])\n",
        "T=Operator([[1,0],[0,math.e**(math.pi*1j/4)]])\n",
        "v=Statevector([1,0])\n",
        "display(v.draw(\"text\"))\n",
        "display(v.draw(\"latex\"))\n"
      ],
      "metadata": {
        "id": "EgqEJCjZvnJg",
        "colab": {
          "base_uri": "https://localhost:8080/",
          "height": 55
        },
        "outputId": "25e0d8bf-3ad8-415b-817d-0398cf973bb2"
      },
      "execution_count": 25,
      "outputs": [
        {
          "output_type": "display_data",
          "data": {
            "text/plain": [
              "[1.+0.j,0.+0.j]"
            ]
          },
          "metadata": {}
        },
        {
          "output_type": "display_data",
          "data": {
            "text/plain": [
              "<IPython.core.display.Latex object>"
            ],
            "text/latex": "$$ |0\\rangle$$"
          },
          "metadata": {}
        }
      ]
    },
    {
      "cell_type": "code",
      "source": [
        "v=v.evolve(H)\n",
        "v=v.evolve(T)\n",
        "v=v.evolve(H)\n",
        "v=v.evolve(T)\n",
        "v=v.evolve(Z)\n",
        "display(v.draw(\"text\"))\n",
        "display(v.draw(\"latex\"))\n"
      ],
      "metadata": {
        "id": "oCLGu_srwY45",
        "colab": {
          "base_uri": "https://localhost:8080/",
          "height": 56
        },
        "outputId": "7806cdcf-6b72-4094-ba29-4a417de0488f"
      },
      "execution_count": 26,
      "outputs": [
        {
          "output_type": "display_data",
          "data": {
            "text/plain": [
              "[ 0.85355339+0.35355339j,-0.35355339+0.14644661j]"
            ]
          },
          "metadata": {}
        },
        {
          "output_type": "display_data",
          "data": {
            "text/plain": [
              "<IPython.core.display.Latex object>"
            ],
            "text/latex": "$$(0.8535533906 + 0.3535533906 i) |0\\rangle+(-0.3535533906 + 0.1464466094 i) |1\\rangle$$"
          },
          "metadata": {}
        }
      ]
    },
    {
      "cell_type": "code",
      "source": [
        "from qiskit import QuantumCircuit\n",
        "from qiskit.visualization import circuit_drawer\n",
        "\n",
        "circuit = QuantumCircuit(1)\n",
        "circuit.h(0)\n",
        "circuit.t(0)\n",
        "circuit.h(0)\n",
        "circuit.t(0)\n",
        "circuit.z(0)\n",
        "diagram = circuit.draw(output='text')\n",
        "print(diagram)\n"
      ],
      "metadata": {
        "colab": {
          "base_uri": "https://localhost:8080/"
        },
        "id": "F69U34M3W8Tk",
        "outputId": "477aae79-a852-4efa-af62-9c6d6103ac93"
      },
      "execution_count": 27,
      "outputs": [
        {
          "output_type": "stream",
          "name": "stdout",
          "text": [
            "   ┌───┐┌───┐┌───┐┌───┐┌───┐\n",
            "q: ┤ H ├┤ T ├┤ H ├┤ T ├┤ Z ├\n",
            "   └───┘└───┘└───┘└───┘└───┘\n"
          ]
        }
      ]
    },
    {
      "cell_type": "code",
      "source": [
        "ket0=Statevector([1,0])\n",
        "v=ket0.evolve(H)\n",
        "v.draw(\"text\")"
      ],
      "metadata": {
        "colab": {
          "base_uri": "https://localhost:8080/"
        },
        "id": "EGtN2BXQXyHn",
        "outputId": "82e5fc34-aace-46af-bd1b-8598a2a9008e"
      },
      "execution_count": 28,
      "outputs": [
        {
          "output_type": "execute_result",
          "data": {
            "text/plain": [
              "[0.70710678+0.j,0.70710678+0.j]"
            ]
          },
          "metadata": {},
          "execution_count": 28
        }
      ]
    },
    {
      "cell_type": "code",
      "source": [
        "from qiskit.visualization import plot_histogram\n",
        "statistics=v.sample_counts(1000)\n",
        "plot_histogram(statistics)"
      ],
      "metadata": {
        "colab": {
          "base_uri": "https://localhost:8080/",
          "height": 429
        },
        "id": "oCYfHKHcYAVA",
        "outputId": "5d9cb9b0-9ca4-4412-dd70-0137fb0d7854"
      },
      "execution_count": 29,
      "outputs": [
        {
          "output_type": "execute_result",
          "data": {
            "text/plain": [
              "<Figure size 640x480 with 1 Axes>"
            ],
            "image/png": "[encoded data removed]"
          },
          "metadata": {},
          "execution_count": 29
        }
      ]
    },
    {
      "cell_type": "markdown",
      "source": [],
      "metadata": {
        "id": "9mJP_8wqlVQ7"
      }
    },
    {
      "cell_type": "code",
      "source": [
        "H=Operator([[1/math.sqrt(2),1/math.sqrt(2)],[1/math.sqrt(2),-1/math.sqrt(2)]])\n",
        "S=Operator([[1,0],[0,1j]])\n"
      ],
      "metadata": {
        "id": "ZCT0NRfalUDU"
      },
      "execution_count": 30,
      "outputs": []
    },
    {
      "cell_type": "code",
      "source": [
        "!pip install qiskit_aer"
      ],
      "metadata": {
        "id": "WkRltR7-mKeh",
        "outputId": "10723c97-ff0e-4520-d448-d157240d5189",
        "colab": {
          "base_uri": "https://localhost:8080/"
        }
      },
      "execution_count": 41,
      "outputs": [
        {
          "output_type": "stream",
          "name": "stdout",
          "text": [
            "Requirement already satisfied: qiskit_aer in /usr/local/lib/python3.10/dist-packages (0.15.1)\n",
            "Requirement already satisfied: qiskit>=1.1.0 in /usr/local/lib/python3.10/dist-packages (from qiskit_aer) (1.2.4)\n",
            "Requirement already satisfied: numpy>=1.16.3 in /usr/local/lib/python3.10/dist-packages (from qiskit_aer) (1.26.4)\n",
            "Requirement already satisfied: scipy>=1.0 in /usr/local/lib/python3.10/dist-packages (from qiskit_aer) (1.13.1)\n",
            "Requirement already satisfied: psutil>=5 in /usr/local/lib/python3.10/dist-packages (from qiskit_aer) (5.9.5)\n",
            "Requirement already satisfied: rustworkx>=0.15.0 in /usr/local/lib/python3.10/dist-packages (from qiskit>=1.1.0->qiskit_aer) (0.15.1)\n",
            "Requirement already satisfied: sympy>=1.3 in /usr/local/lib/python3.10/dist-packages (from qiskit>=1.1.0->qiskit_aer) (1.13.1)\n",
            "Requirement already satisfied: dill>=0.3 in /usr/local/lib/python3.10/dist-packages (from qiskit>=1.1.0->qiskit_aer) (0.3.9)\n",
            "Requirement already satisfied: python-dateutil>=2.8.0 in /usr/local/lib/python3.10/dist-packages (from qiskit>=1.1.0->qiskit_aer) (2.8.2)\n",
            "Requirement already satisfied: stevedore>=3.0.0 in /usr/local/lib/python3.10/dist-packages (from qiskit>=1.1.0->qiskit_aer) (5.3.0)\n",
            "Requirement already satisfied: typing-extensions in /usr/local/lib/python3.10/dist-packages (from qiskit>=1.1.0->qiskit_aer) (4.12.2)\n",
            "Requirement already satisfied: symengine<0.14,>=0.11 in /usr/local/lib/python3.10/dist-packages (from qiskit>=1.1.0->qiskit_aer) (0.13.0)\n",
            "Requirement already satisfied: six>=1.5 in /usr/local/lib/python3.10/dist-packages (from python-dateutil>=2.8.0->qiskit>=1.1.0->qiskit_aer) (1.16.0)\n",
            "Requirement already satisfied: pbr>=2.0.0 in /usr/local/lib/python3.10/dist-packages (from stevedore>=3.0.0->qiskit>=1.1.0->qiskit_aer) (6.1.0)\n",
            "Requirement already satisfied: mpmath<1.4,>=1.1.0 in /usr/local/lib/python3.10/dist-packages (from sympy>=1.3->qiskit>=1.1.0->qiskit_aer) (1.3.0)\n"
          ]
        }
      ]
    },
    {
      "cell_type": "code",
      "source": [
        "!pip install pylatexenc"
      ],
      "metadata": {
        "id": "5Gup1xNvoTAe",
        "outputId": "482d3834-513a-4e8b-e027-9ce9b3bed52e",
        "colab": {
          "base_uri": "https://localhost:8080/"
        }
      },
      "execution_count": 42,
      "outputs": [
        {
          "output_type": "stream",
          "name": "stdout",
          "text": [
            "Requirement already satisfied: pylatexenc in /usr/local/lib/python3.10/dist-packages (2.10)\n"
          ]
        }
      ]
    },
    {
      "cell_type": "code",
      "source": [
        "from qiskit import QuantumCircuit\n",
        "from qiskit_aer import AerSimulator\n",
        "from qiskit.visualization import plot_histogram\n",
        "\n",
        "def R_gate(qc, qubit):\n",
        "    qc.h(qubit)\n",
        "    qc.x(qubit)\n",
        "    qc.s(qubit)\n",
        "    qc.h(qubit)\n",
        "\n",
        "# Create a quantum circuit\n",
        "qc = QuantumCircuit(1)\n",
        "\n",
        "# Apply R twice\n",
        "R_gate(qc, 0)\n",
        "R_gate(qc, 0)\n",
        "\n",
        "# Measure the qubit\n",
        "qc.measure_all()\n",
        "\n",
        "\n",
        "display(qc.draw(output='text'))\n",
        "# Simulate the circuit\n",
        "simulator = AerSimulator()\n",
        "job = simulator.run(qc, shots=100)\n",
        "result = job.result()\n",
        "counts = result.get_counts(qc)\n",
        "print(counts)\n",
        "\n",
        "display(plot_histogram(counts))\n",
        "\n",
        "\n"
      ],
      "metadata": {
        "id": "w-5bfcavlXyZ",
        "outputId": "5b3f9fac-488f-4e76-da9b-15b38218e4ce",
        "colab": {
          "base_uri": "https://localhost:8080/",
          "height": 523
        }
      },
      "execution_count": 44,
      "outputs": [
        {
          "output_type": "display_data",
          "data": {
            "text/plain": [
              "        ┌───┐┌───┐┌───┐┌───┐┌───┐┌───┐┌───┐┌───┐ ░ ┌─┐\n",
              "     q: ┤ H ├┤ X ├┤ S ├┤ H ├┤ H ├┤ X ├┤ S ├┤ H ├─░─┤M├\n",
              "        └───┘└───┘└───┘└───┘└───┘└───┘└───┘└───┘ ░ └╥┘\n",
              "meas: 1/════════════════════════════════════════════╩═\n",
              "                                                    0 "
            ],
            "text/html": [
              "<pre style=\"word-wrap: normal;white-space: pre;background: #fff0;line-height: 1.1;font-family: &quot;Courier New&quot;,Courier,monospace\">        ┌───┐┌───┐┌───┐┌───┐┌───┐┌───┐┌───┐┌───┐ ░ ┌─┐\n",
              "     q: ┤ H ├┤ X ├┤ S ├┤ H ├┤ H ├┤ X ├┤ S ├┤ H ├─░─┤M├\n",
              "        └───┘└───┘└───┘└───┘└───┘└───┘└───┘└───┘ ░ └╥┘\n",
              "meas: 1/════════════════════════════════════════════╩═\n",
              "                                                    0 </pre>"
            ]
          },
          "metadata": {}
        },
        {
          "output_type": "stream",
          "name": "stdout",
          "text": [
            "{'0': 100}\n"
          ]
        },
        {
          "output_type": "display_data",
          "data": {
            "text/plain": [
              "<Figure size 640x480 with 1 Axes>"
            ],
            "image/png": "[encoded data removed]"
          },
          "metadata": {}
        }
      ]
    },
    {
      "cell_type": "markdown",
      "source": [
        "in the above code we can see that applying the R_gate twice results in flipping the state of the qubit, effectively implementing a NOT gate. If you start with the qubit in state |0⟩, applying R twice yields |1⟩ and vice-versa. This confirms that R is the square root of NOT. The visualization will show the sequence of H, X, S, and H gates applied twice."
      ],
      "metadata": {
        "id": "bvl7-ev_lSs6"
      }
    }
  ]
}