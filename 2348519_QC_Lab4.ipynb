{
  "nbformat": 4,
  "nbformat_minor": 0,
  "metadata": {
    "colab": {
      "provenance": [],
      "authorship_tag": "ABX9TyMqSbUCpJw9lwLg0RkfOxWX",
      "include_colab_link": true
    },
    "kernelspec": {
      "name": "python3",
      "display_name": "Python 3"
    },
    "language_info": {
      "name": "python"
    }
  },
  "cells": [
    {
      "cell_type": "markdown",
      "metadata": {
        "id": "view-in-github",
        "colab_type": "text"
      },
      "source": [
        "<a href=\"https://colab.research.google.com/github/Guhan2348519/QC_LAB/blob/main/2348519_QC_Lab4.ipynb\" target=\"_parent\"><img src=\"https://colab.research.google.com/assets/colab-badge.svg\" alt=\"Open In Colab\"/></a>"
      ]
    },
    {
      "cell_type": "code",
      "source": [
        "!pip install qiskit"
      ],
      "metadata": {
        "colab": {
          "base_uri": "https://localhost:8080/"
        },
        "id": "4ra5_dh17WC1",
        "outputId": "1d30c149-6466-4f93-80e8-20c943ac0e4a"
      },
      "execution_count": null,
      "outputs": [
        {
          "output_type": "stream",
          "name": "stdout",
          "text": [
            "Requirement already satisfied: qiskit in /usr/local/lib/python3.10/dist-packages (1.2.4)\n",
            "Requirement already satisfied: rustworkx>=0.15.0 in /usr/local/lib/python3.10/dist-packages (from qiskit) (0.15.1)\n",
            "Requirement already satisfied: numpy<3,>=1.17 in /usr/local/lib/python3.10/dist-packages (from qiskit) (1.26.4)\n",
            "Requirement already satisfied: scipy>=1.5 in /usr/local/lib/python3.10/dist-packages (from qiskit) (1.13.1)\n",
            "Requirement already satisfied: sympy>=1.3 in /usr/local/lib/python3.10/dist-packages (from qiskit) (1.13.3)\n",
            "Requirement already satisfied: dill>=0.3 in /usr/local/lib/python3.10/dist-packages (from qiskit) (0.3.9)\n",
            "Requirement already satisfied: python-dateutil>=2.8.0 in /usr/local/lib/python3.10/dist-packages (from qiskit) (2.8.2)\n",
            "Requirement already satisfied: stevedore>=3.0.0 in /usr/local/lib/python3.10/dist-packages (from qiskit) (5.3.0)\n",
            "Requirement already satisfied: typing-extensions in /usr/local/lib/python3.10/dist-packages (from qiskit) (4.12.2)\n",
            "Requirement already satisfied: symengine<0.14,>=0.11 in /usr/local/lib/python3.10/dist-packages (from qiskit) (0.13.0)\n",
            "Requirement already satisfied: six>=1.5 in /usr/local/lib/python3.10/dist-packages (from python-dateutil>=2.8.0->qiskit) (1.16.0)\n",
            "Requirement already satisfied: pbr>=2.0.0 in /usr/local/lib/python3.10/dist-packages (from stevedore>=3.0.0->qiskit) (6.1.0)\n",
            "Requirement already satisfied: mpmath<1.4,>=1.1.0 in /usr/local/lib/python3.10/dist-packages (from sympy>=1.3->qiskit) (1.3.0)\n"
          ]
        }
      ]
    },
    {
      "cell_type": "code",
      "source": [
        "!pip install pylatexenc"
      ],
      "metadata": {
        "colab": {
          "base_uri": "https://localhost:8080/"
        },
        "id": "Jkndnd5X8jXu",
        "outputId": "993f669a-a3a0-4648-b60c-872d3aebbb13"
      },
      "execution_count": null,
      "outputs": [
        {
          "output_type": "stream",
          "name": "stdout",
          "text": [
            "Requirement already satisfied: pylatexenc in /usr/local/lib/python3.10/dist-packages (2.10)\n"
          ]
        }
      ]
    },
    {
      "cell_type": "code",
      "source": [
        "!pip install qutip"
      ],
      "metadata": {
        "colab": {
          "base_uri": "https://localhost:8080/"
        },
        "id": "xI2rfUmNCSya",
        "outputId": "b6e25627-a4c5-4ad0-87e8-109256a58694"
      },
      "execution_count": null,
      "outputs": [
        {
          "output_type": "stream",
          "name": "stdout",
          "text": [
            "Collecting qutip\n",
            "  Downloading qutip-5.0.4-cp310-cp310-manylinux_2_17_x86_64.manylinux2014_x86_64.whl.metadata (9.2 kB)\n",
            "Requirement already satisfied: numpy>=1.22 in /usr/local/lib/python3.10/dist-packages (from qutip) (1.26.4)\n",
            "Requirement already satisfied: scipy>=1.9 in /usr/local/lib/python3.10/dist-packages (from qutip) (1.13.1)\n",
            "Requirement already satisfied: packaging in /usr/local/lib/python3.10/dist-packages (from qutip) (24.1)\n",
            "Downloading qutip-5.0.4-cp310-cp310-manylinux_2_17_x86_64.manylinux2014_x86_64.whl (28.0 MB)\n",
            "\u001b[2K   \u001b[90m━━━━━━━━━━━━━━━━━━━━━━━━━━━━━━━━━━━━━━━━\u001b[0m \u001b[32m28.0/28.0 MB\u001b[0m \u001b[31m29.9 MB/s\u001b[0m eta \u001b[36m0:00:00\u001b[0m\n",
            "\u001b[?25hInstalling collected packages: qutip\n",
            "Successfully installed qutip-5.0.4\n"
          ]
        }
      ]
    },
    {
      "cell_type": "code",
      "execution_count": null,
      "metadata": {
        "id": "NB12qwoC7LUu"
      },
      "outputs": [],
      "source": [
        "from qiskit import QuantumCircuit,QuantumRegister,ClassicalRegister\n",
        "from qutip import Qobj, basis, sigmax, sigmaz, qeye, tensor\n",
        "from qiskit.primitives import Sampler\n",
        "from qiskit.visualization import plot_histogram"
      ]
    },
    {
      "cell_type": "code",
      "source": [
        "circuit=QuantumCircuit(1)\n",
        "circuit.h(0)\n",
        "circuit.s(0)\n",
        "circuit.h(0)\n",
        "circuit.t(0)\n",
        "circuit.draw()\n"
      ],
      "metadata": {
        "colab": {
          "base_uri": "https://localhost:8080/",
          "height": 63
        },
        "id": "GBb_D4lR7vIj",
        "outputId": "73dafc0d-c773-486a-f5ad-9166322e07a4"
      },
      "execution_count": null,
      "outputs": [
        {
          "output_type": "execute_result",
          "data": {
            "text/plain": [
              "   ┌───┐┌───┐┌───┐┌───┐\n",
              "q: ┤ H ├┤ S ├┤ H ├┤ T ├\n",
              "   └───┘└───┘└───┘└───┘"
            ],
            "text/html": [
              "<pre style=\"word-wrap: normal;white-space: pre;background: #fff0;line-height: 1.1;font-family: &quot;Courier New&quot;,Courier,monospace\">   ┌───┐┌───┐┌───┐┌───┐\n",
              "q: ┤ H ├┤ S ├┤ H ├┤ T ├\n",
              "   └───┘└───┘└───┘└───┘</pre>"
            ]
          },
          "metadata": {},
          "execution_count": 17
        }
      ]
    },
    {
      "cell_type": "code",
      "source": [
        "x=QuantumRegister(2,\"x\")\n",
        "circuit=QuantumCircuit(x)\n",
        "circuit.h(x)\n",
        "circuit.s(x)\n",
        "circuit.h(x)\n",
        "circuit.t(x)\n",
        "circuit.measure_all\n",
        "circuit.draw()"
      ],
      "metadata": {
        "colab": {
          "base_uri": "https://localhost:8080/",
          "height": 94
        },
        "id": "HIubcryp9Ht5",
        "outputId": "ca143590-5e59-46fe-ab8f-eb797c3f609d"
      },
      "execution_count": null,
      "outputs": [
        {
          "output_type": "execute_result",
          "data": {
            "text/plain": [
              "     ┌───┐┌───┐┌───┐┌───┐\n",
              "x_0: ┤ H ├┤ S ├┤ H ├┤ T ├\n",
              "     ├───┤├───┤├───┤├───┤\n",
              "x_1: ┤ H ├┤ S ├┤ H ├┤ T ├\n",
              "     └───┘└───┘└───┘└───┘"
            ],
            "text/html": [
              "<pre style=\"word-wrap: normal;white-space: pre;background: #fff0;line-height: 1.1;font-family: &quot;Courier New&quot;,Courier,monospace\">     ┌───┐┌───┐┌───┐┌───┐\n",
              "x_0: ┤ H ├┤ S ├┤ H ├┤ T ├\n",
              "     ├───┤├───┤├───┤├───┤\n",
              "x_1: ┤ H ├┤ S ├┤ H ├┤ T ├\n",
              "     └───┘└───┘└───┘└───┘</pre>"
            ]
          },
          "metadata": {},
          "execution_count": 30
        }
      ]
    },
    {
      "cell_type": "markdown",
      "source": [
        "To check for the reversibility if we apply the opeation and its inve\n",
        "rse we will get the original state"
      ],
      "metadata": {
        "id": "_aS6JKCc_Moy"
      }
    },
    {
      "cell_type": "code",
      "source": [
        "#inverse of the state\n",
        "circuit.tdg(x)  # T†\n",
        "circuit.h(x)   # H† (H is self-inverse)\n",
        "circuit.sdg(x)  # S†\n",
        "circuit.h(x)   # H† (H is self-inverse)\n",
        "# Measure the qubit\n",
        "circuit.measure_all()\n"
      ],
      "metadata": {
        "id": "MIafJSv8_L6i"
      },
      "execution_count": null,
      "outputs": []
    },
    {
      "cell_type": "code",
      "source": [
        "import numpy as np\n",
        "from qutip import Qobj, basis, sigmax, sigmaz, snot, phasegate, qeye\n",
        "from qiskit import QuantumCircuit, QuantumRegister\n",
        "\n",
        "# Define Qiskit circuit\n",
        "x = QuantumRegister(1, \"x\")\n",
        "circuit = QuantumCircuit(x)\n",
        "\n",
        "circuit.h(x)\n",
        "circuit.s(x)\n",
        "circuit.h(x)\n",
        "circuit.t(x)\n",
        "\n",
        "# Convert Qiskit gates to QuTiP operators\n",
        "gate_mapping = {\n",
        "    'h': snot(),  # Hadamard\n",
        "    's': phasegate(np.pi/2),  # S gate\n",
        "    't': phasegate(np.pi/4),  # T gate\n",
        "    'tdg': phasegate(-np.pi/4),  # T† gate\n",
        "    'sdg': phasegate(-np.pi/2)  # S† gate\n",
        "}\n",
        "\n",
        "# Initialize QuTiP state\n",
        "initial_state = basis(2, 0)  # |0⟩ state\n",
        "\n",
        "# Apply HSHT operation in QuTiP\n",
        "state = initial_state\n",
        "for gate in ['h', 's', 'h', 't']:\n",
        "    state = gate_mapping[gate] * state\n",
        "\n",
        "# Apply inverse operation (T†HS†H) in QuTiP\n",
        "for gate in ['tdg', 'h', 'sdg', 'h']:\n",
        "    state = gate_mapping[gate] * state\n",
        "\n",
        "# Print final state\n",
        "print(\"Final State:\")\n",
        "print(state)\n",
        "\n",
        "# Calculate and print probabilities\n",
        "probabilities = np.abs(state.full())**2\n",
        "print(\"\\nProbabilities:\")\n",
        "print(\"P(|0⟩) =\", probabilities[0][0])\n",
        "print(\"P(|1⟩) =\", probabilities[1][0])"
      ],
      "metadata": {
        "colab": {
          "base_uri": "https://localhost:8080/",
          "height": 383
        },
        "id": "vv3ixysk-M8g",
        "outputId": "e39c33fe-5bdc-419e-f836-809a6108ea99"
      },
      "execution_count": null,
      "outputs": [
        {
          "output_type": "error",
          "ename": "ImportError",
          "evalue": "cannot import name 'snot' from 'qutip' (/usr/local/lib/python3.10/dist-packages/qutip/__init__.py)",
          "traceback": [
            "\u001b[0;31m---------------------------------------------------------------------------\u001b[0m",
            "\u001b[0;31mImportError\u001b[0m                               Traceback (most recent call last)",
            "\u001b[0;32m<ipython-input-41-cb04f61e27fb>\u001b[0m in \u001b[0;36m<cell line: 2>\u001b[0;34m()\u001b[0m\n\u001b[1;32m      1\u001b[0m \u001b[0;32mimport\u001b[0m \u001b[0mnumpy\u001b[0m \u001b[0;32mas\u001b[0m \u001b[0mnp\u001b[0m\u001b[0;34m\u001b[0m\u001b[0;34m\u001b[0m\u001b[0m\n\u001b[0;32m----> 2\u001b[0;31m \u001b[0;32mfrom\u001b[0m \u001b[0mqutip\u001b[0m \u001b[0;32mimport\u001b[0m \u001b[0mQobj\u001b[0m\u001b[0;34m,\u001b[0m \u001b[0mbasis\u001b[0m\u001b[0;34m,\u001b[0m \u001b[0msigmax\u001b[0m\u001b[0;34m,\u001b[0m \u001b[0msigmaz\u001b[0m\u001b[0;34m,\u001b[0m \u001b[0msnot\u001b[0m\u001b[0;34m,\u001b[0m \u001b[0mphasegate\u001b[0m\u001b[0;34m,\u001b[0m \u001b[0mqeye\u001b[0m\u001b[0;34m\u001b[0m\u001b[0;34m\u001b[0m\u001b[0m\n\u001b[0m\u001b[1;32m      3\u001b[0m \u001b[0;32mfrom\u001b[0m \u001b[0mqiskit\u001b[0m \u001b[0;32mimport\u001b[0m \u001b[0mQuantumCircuit\u001b[0m\u001b[0;34m,\u001b[0m \u001b[0mQuantumRegister\u001b[0m\u001b[0;34m\u001b[0m\u001b[0;34m\u001b[0m\u001b[0m\n\u001b[1;32m      4\u001b[0m \u001b[0;34m\u001b[0m\u001b[0m\n\u001b[1;32m      5\u001b[0m \u001b[0;31m# Define Qiskit circuit\u001b[0m\u001b[0;34m\u001b[0m\u001b[0;34m\u001b[0m\u001b[0m\n",
            "\u001b[0;31mImportError\u001b[0m: cannot import name 'snot' from 'qutip' (/usr/local/lib/python3.10/dist-packages/qutip/__init__.py)",
            "",
            "\u001b[0;31m---------------------------------------------------------------------------\u001b[0;32m\nNOTE: If your import is failing due to a missing package, you can\nmanually install dependencies using either !pip or !apt.\n\nTo view examples of installing some common dependencies, click the\n\"Open Examples\" button below.\n\u001b[0;31m---------------------------------------------------------------------------\u001b[0m\n"
          ],
          "errorDetails": {
            "actions": [
              {
                "action": "open_url",
                "actionText": "Open Examples",
                "url": "/notebooks/snippets/importing_libraries.ipynb"
              }
            ]
          }
        }
      ]
    }
  ]
}